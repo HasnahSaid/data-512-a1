{
 "cells": [
  {
   "cell_type": "markdown",
   "metadata": {},
   "source": [
    "# Hasnah Said<br>A1: Data Curation<br>October 6, 2021"
   ]
  },
  {
   "cell_type": "markdown",
   "metadata": {},
   "source": [
    "### Step 1: Data acquisition"
   ]
  },
  {
   "cell_type": "code",
   "execution_count": 1,
   "metadata": {},
   "outputs": [],
   "source": [
    "import json\n",
    "import requests\n",
    "import pandas as pd\n",
    "import numpy as np\n",
    "import matplotlib.pyplot as plt\n",
    "import matplotlib.patches as mpatches"
   ]
  },
  {
   "cell_type": "markdown",
   "metadata": {},
   "source": [
    "First, I'll set up the json parameters for the API call to pagecount and pageview API"
   ]
  },
  {
   "cell_type": "code",
   "execution_count": 2,
   "metadata": {},
   "outputs": [],
   "source": [
    "\n",
    "headers = {'User-Agent': 'https://github.com/HasnahSaid',\n",
    "           'From': 'hasna024@uw.edu'}\n",
    "\n",
    "pagecounts_access_types = ['mobile-site', 'desktop-site']\n",
    "endpoint_pagecounts = 'https://wikimedia.org/api/rest_v1/metrics/legacy/pagecounts/aggregate/{project}/{access-site}/{granularity}/{start}/{end}'\n",
    "params_pagecounts = {\"project\" : \"en.wikipedia.org\",\n",
    "                 \"access-site\" : \"\", # Access types: mobile-site, desktop-site\n",
    "                 \"granularity\" : \"monthly\",\n",
    "                 \"start\" : \"2008010100\",\n",
    "                 \"end\" : \"2017010100\"}\n",
    "    \n",
    "pageviews_access_types = ['mobile-app', 'mobile-web', 'desktop']   \n",
    "endpoint_pageviews = 'https://wikimedia.org/api/rest_v1/metrics/pageviews/aggregate/{project}/{access}/{agent}/{granularity}/{start}/{end}'\n",
    "params_pageviews = {\"project\" : \"en.wikipedia.org\",\n",
    "                            \"access\" : \"\", # Access types: mobile-app, mobile-web,desktop\n",
    "                            \"agent\" : \"user\",\n",
    "                            \"granularity\" : \"monthly\",\n",
    "                            \"start\" : \"2016010100\",\n",
    "                            \"end\" : '2021100100'}\n"
   ]
  },
  {
   "cell_type": "code",
   "execution_count": 3,
   "metadata": {},
   "outputs": [],
   "source": [
    "def api_call(endpoint,parameters):\n",
    "    call = requests.get(endpoint.format(**parameters), headers=headers)\n",
    "    response = call.json()\n",
    "    \n",
    "    return response"
   ]
  },
  {
   "cell_type": "markdown",
   "metadata": {},
   "source": [
    "The next two cells will iterate over the five different access types, make an API call to retrieve those records, then finally write them out as JSON file"
   ]
  },
  {
   "cell_type": "code",
   "execution_count": 4,
   "metadata": {},
   "outputs": [],
   "source": [
    "# Get Pagecounts Data\n",
    "pagecounts_fname = 'pagecounts_{}_200801_201701.json'\n",
    "for at in pagecounts_access_types:\n",
    "    params_pagecounts[\"access-site\"] = at\n",
    "    res = api_call(endpoint_pagecounts, params_pagecounts)\n",
    "    with open(pagecounts_fname.format(at), 'w') as fout:\n",
    "        json.dump(res, fout)\n"
   ]
  },
  {
   "cell_type": "code",
   "execution_count": 5,
   "metadata": {},
   "outputs": [],
   "source": [
    "# Get Pageviews Data\n",
    "pageviews_fname = 'pageviews_{}_201601_202110.json'\n",
    "for at in pageviews_access_types:\n",
    "    params_pageviews[\"access\"] = at\n",
    "    res = api_call(endpoint_pageviews, params_pageviews)\n",
    "    with open(pageviews_fname.format(at),'w') as fout: \n",
    "        json.dump(res, fout)"
   ]
  },
  {
   "cell_type": "markdown",
   "metadata": {},
   "source": [
    "### Step 2: Data processing"
   ]
  },
  {
   "cell_type": "markdown",
   "metadata": {},
   "source": [
    "You will need to perform a series of processing steps on these data files in order to prepare them for analysis. These steps must be followed carefully in order to prepare the data for analysis. At the end of this step, you will have a single CSV-formatted data file that can be used in your analysis (Step 3) with no significant additional processing.\n",
    "\n",
    "* For data collected from the Pageviews API, combine the monthly values for mobile-app and mobile-web to create a total mobile traffic count for each month.\n",
    "\n",
    "* For all data, separate the value of timestamp into four-digit year (YYYY) and two-digit month (MM) and discard values for day and hour (DDHH).\n",
    "\n",
    "Combine all data into a single CSV file with the following headers:\n",
    "1. year\n",
    "2. month\n",
    "3. pagecount_all_views\n",
    "4. pagecount_desktop_views\n",
    "5. pagecount_mobile_views\n",
    "6. pageview_all_views\n",
    "7. pageview_desktop_views\n",
    "8. pageview_mobile_views\n"
   ]
  },
  {
   "cell_type": "markdown",
   "metadata": {},
   "source": [
    "The steps I followed in processing the views JSON files are: \n",
    "    1. Read in the JSON files, normalize them and drop columns that are not needed\n",
    "    2. Merge pageview mobile app and mobile web by adding those values into one column\n",
    "    3. Merge the rest of the columns to the combined dataframe, sum all the views, and rename the columns\n",
    "    4. Split the timestamp column into month and year columns, then drop unneeded columns\n",
    "    5. Convert null cells to 0\n",
    "    6. Reorder the columns "
   ]
  },
  {
   "cell_type": "code",
   "execution_count": 6,
   "metadata": {},
   "outputs": [],
   "source": [
    "# Read files as pandas DataFrame\n",
    "\n",
    "#Pagecounts\n",
    "pc_desktop = pd.json_normalize(pd.read_json('pagecounts_desktop-site_200801_201701.json')['items'])[['timestamp', 'count']]\n",
    "pc_mobile = pd.json_normalize(pd.read_json('pagecounts_mobile-site_200801_201701.json')['items'])[['timestamp', 'count']]\n",
    "\n",
    "#Pageviews\n",
    "pv_desktop = pd.json_normalize(pd.read_json('pageviews_desktop_201601_202110.json')['items'])[['timestamp', 'views']]\n",
    "pv_mobile_app = pd.json_normalize(pd.read_json('pageviews_mobile-app_201601_202110.json')['items'])[['timestamp', 'views']]\n",
    "pv_mobile_web = pd.json_normalize(pd.read_json('pageviews_mobile-web_201601_202110.json')['items'])[['timestamp', 'views']]\n"
   ]
  },
  {
   "cell_type": "code",
   "execution_count": 7,
   "metadata": {},
   "outputs": [],
   "source": [
    "# Merge mobile views for Pageviews API\n",
    "pv_mobile = pd.merge(pv_mobile_app, pv_mobile_web, on='timestamp')\n",
    "pv_mobile['pageview_mobile_views'] = pv_mobile_app['views'] + pv_mobile_web['views']"
   ]
  },
  {
   "cell_type": "code",
   "execution_count": 8,
   "metadata": {},
   "outputs": [],
   "source": [
    "# Merge in the rest of the columns and rename them\n",
    "df_combined = pd.merge(pc_desktop, pc_mobile, on='timestamp', how='outer')\n",
    "df_combined = pd.merge(df_combined, pv_desktop, on='timestamp', how='outer')\n",
    "df_combined = pd.merge(df_combined, pv_mobile, on='timestamp', how='outer')\n",
    "df_combined = df_combined.rename(columns={'count_x': 'pagecount_desktop_views', 'count_y':'pagecount_mobile_views', 'views':'pageview_desktop_views'})\n",
    "df_combined['pagecount_all_views'] = df_combined['pagecount_mobile_views'] + df_combined['pagecount_desktop_views']\n",
    "df_combined['pageview_all_views'] = df_combined['pageview_desktop_views'] + df_combined['pageview_mobile_views']"
   ]
  },
  {
   "cell_type": "code",
   "execution_count": 9,
   "metadata": {},
   "outputs": [],
   "source": [
    "# Separate the timestamp into month and year\n",
    "df_combined['month'] = df_combined['timestamp'].str[4:6]\n",
    "df_combined['year'] = df_combined['timestamp'].str[:4]\n",
    "# Delete extra columns\n",
    "del(df_combined['timestamp'])\n",
    "del(df_combined['views_x'])\n",
    "del(df_combined['views_y'])"
   ]
  },
  {
   "cell_type": "markdown",
   "metadata": {},
   "source": [
    "For months with 0 pageviews for a given access method (e.g. desktop-site, mobile-app), that value for that (column, month) should be listed as 0. So for example all values of pagecount_mobile_views for months before October 2014 should be 0, because mobile traffic data is not available before that month.\n",
    "The final data file should be named:<br>\n",
    "en-wikipedia_traffic_200712-202108.csv\n"
   ]
  },
  {
   "cell_type": "code",
   "execution_count": 10,
   "metadata": {},
   "outputs": [],
   "source": [
    "df_combined = df_combined.fillna(0)"
   ]
  },
  {
   "cell_type": "code",
   "execution_count": 11,
   "metadata": {},
   "outputs": [],
   "source": [
    "# Reorder columns in final combined dataframe\n",
    "df_combined = df_combined[[\"year\", \"month\", \n",
    "                           \"pagecount_all_views\", \n",
    "                           \"pagecount_desktop_views\", \n",
    "                           \"pagecount_mobile_views\", \n",
    "                           \"pageview_all_views\", \n",
    "                           \"pageview_desktop_views\", \n",
    "                           \"pageview_mobile_views\"]]"
   ]
  },
  {
   "cell_type": "code",
   "execution_count": 12,
   "metadata": {},
   "outputs": [
    {
     "data": {
      "text/html": [
       "<div>\n",
       "<style scoped>\n",
       "    .dataframe tbody tr th:only-of-type {\n",
       "        vertical-align: middle;\n",
       "    }\n",
       "\n",
       "    .dataframe tbody tr th {\n",
       "        vertical-align: top;\n",
       "    }\n",
       "\n",
       "    .dataframe thead th {\n",
       "        text-align: right;\n",
       "    }\n",
       "</style>\n",
       "<table border=\"1\" class=\"dataframe\">\n",
       "  <thead>\n",
       "    <tr style=\"text-align: right;\">\n",
       "      <th></th>\n",
       "      <th>year</th>\n",
       "      <th>month</th>\n",
       "      <th>pagecount_all_views</th>\n",
       "      <th>pagecount_desktop_views</th>\n",
       "      <th>pagecount_mobile_views</th>\n",
       "      <th>pageview_all_views</th>\n",
       "      <th>pageview_desktop_views</th>\n",
       "      <th>pageview_mobile_views</th>\n",
       "    </tr>\n",
       "  </thead>\n",
       "  <tbody>\n",
       "    <tr>\n",
       "      <th>0</th>\n",
       "      <td>2008</td>\n",
       "      <td>01</td>\n",
       "      <td>0.0</td>\n",
       "      <td>4.930903e+09</td>\n",
       "      <td>0.0</td>\n",
       "      <td>0.0</td>\n",
       "      <td>0.0</td>\n",
       "      <td>0.0</td>\n",
       "    </tr>\n",
       "    <tr>\n",
       "      <th>1</th>\n",
       "      <td>2008</td>\n",
       "      <td>02</td>\n",
       "      <td>0.0</td>\n",
       "      <td>4.818394e+09</td>\n",
       "      <td>0.0</td>\n",
       "      <td>0.0</td>\n",
       "      <td>0.0</td>\n",
       "      <td>0.0</td>\n",
       "    </tr>\n",
       "    <tr>\n",
       "      <th>2</th>\n",
       "      <td>2008</td>\n",
       "      <td>03</td>\n",
       "      <td>0.0</td>\n",
       "      <td>4.955406e+09</td>\n",
       "      <td>0.0</td>\n",
       "      <td>0.0</td>\n",
       "      <td>0.0</td>\n",
       "      <td>0.0</td>\n",
       "    </tr>\n",
       "    <tr>\n",
       "      <th>3</th>\n",
       "      <td>2008</td>\n",
       "      <td>04</td>\n",
       "      <td>0.0</td>\n",
       "      <td>5.159162e+09</td>\n",
       "      <td>0.0</td>\n",
       "      <td>0.0</td>\n",
       "      <td>0.0</td>\n",
       "      <td>0.0</td>\n",
       "    </tr>\n",
       "    <tr>\n",
       "      <th>4</th>\n",
       "      <td>2008</td>\n",
       "      <td>05</td>\n",
       "      <td>0.0</td>\n",
       "      <td>5.584691e+09</td>\n",
       "      <td>0.0</td>\n",
       "      <td>0.0</td>\n",
       "      <td>0.0</td>\n",
       "      <td>0.0</td>\n",
       "    </tr>\n",
       "  </tbody>\n",
       "</table>\n",
       "</div>"
      ],
      "text/plain": [
       "   year month  pagecount_all_views  pagecount_desktop_views  \\\n",
       "0  2008    01                  0.0             4.930903e+09   \n",
       "1  2008    02                  0.0             4.818394e+09   \n",
       "2  2008    03                  0.0             4.955406e+09   \n",
       "3  2008    04                  0.0             5.159162e+09   \n",
       "4  2008    05                  0.0             5.584691e+09   \n",
       "\n",
       "   pagecount_mobile_views  pageview_all_views  pageview_desktop_views  \\\n",
       "0                     0.0                 0.0                     0.0   \n",
       "1                     0.0                 0.0                     0.0   \n",
       "2                     0.0                 0.0                     0.0   \n",
       "3                     0.0                 0.0                     0.0   \n",
       "4                     0.0                 0.0                     0.0   \n",
       "\n",
       "   pageview_mobile_views  \n",
       "0                    0.0  \n",
       "1                    0.0  \n",
       "2                    0.0  \n",
       "3                    0.0  \n",
       "4                    0.0  "
      ]
     },
     "execution_count": 12,
     "metadata": {},
     "output_type": "execute_result"
    }
   ],
   "source": [
    "df_combined.head()"
   ]
  },
  {
   "cell_type": "code",
   "execution_count": 17,
   "metadata": {},
   "outputs": [
    {
     "data": {
      "text/plain": [
       "Index(['year', 'month', 'pagecount_all_views', 'pagecount_desktop_views',\n",
       "       'pagecount_mobile_views', 'pageview_all_views',\n",
       "       'pageview_desktop_views', 'pageview_mobile_views'],\n",
       "      dtype='object')"
      ]
     },
     "execution_count": 17,
     "metadata": {},
     "output_type": "execute_result"
    }
   ],
   "source": [
    "df_combined.columns"
   ]
  },
  {
   "cell_type": "code",
   "execution_count": 13,
   "metadata": {},
   "outputs": [],
   "source": [
    "df_combined.to_csv('en-wikipedia_traffic_200712-202108.csv', index=False)"
   ]
  },
  {
   "cell_type": "markdown",
   "metadata": {},
   "source": [
    "### Step 3: Analysis"
   ]
  },
  {
   "cell_type": "markdown",
   "metadata": {},
   "source": [
    "For this assignment, the \"analysis\" will be fairly straightforward: you will visualize the dataset you have created as a time series graph.<br>\n",
    "Your visualization will track three traffic metrics: mobile traffic, desktop traffic, and all traffic (mobile + desktop).<br>\n",
    "In order to complete the analysis correctly and receive full credit, your graph will need to be the right scale to view the data; all units, axes, and values should be clearly labeled. Your graph should possess a legend and a title. You must generate a .png or .jpeg formatted image of your final graph.<br>\n",
    "Please graph the data in Python or R, in your notebook, rather than using an external application to facilitate reproducibility.\n"
   ]
  },
  {
   "cell_type": "code",
   "execution_count": 14,
   "metadata": {},
   "outputs": [
    {
     "data": {
      "image/png": "[encoded data removed]",
      "text/plain": [
       "<Figure size 864x360 with 1 Axes>"
      ]
     },
     "metadata": {
      "needs_background": "light"
     },
     "output_type": "display_data"
    }
   ],
   "source": [
    "# Load Data from csv file to a dataframe\n",
    "df = pd.read_csv('en-wikipedia_traffic_200712-202108.csv')\n",
    "df.replace(0, np.nan, inplace=True)\n",
    "\n",
    "# Convert month, year to one date column\n",
    "df['date'] = pd.to_datetime(df[['year','month']].assign(day=1))\n",
    "del(df['month'])\n",
    "del(df['year'])\n",
    "\n",
    "# Convert to 1000000\n",
    "view_count_columns = ['pagecount_all_views', 'pagecount_desktop_views', 'pagecount_mobile_views',\n",
    "                      'pageview_all_views', 'pageview_desktop_views', 'pageview_mobile_views']\n",
    "for column_name in view_count_columns:\n",
    "    df[column_name] = df[column_name].div(1000000).round(2)\n",
    "    \n",
    "# Plot pagecount views\n",
    "df.set_index(df['date'])['pagecount_desktop_views'].plot(color='green', linestyle='-', figsize=(12,5))\n",
    "df.set_index(df['date'])['pagecount_mobile_views'].plot(color='blue', linestyle='-.')\n",
    "df.set_index(df['date'])['pagecount_all_views'].plot(color='orange', linestyle='--')\n",
    "# Plot pageview views\n",
    "df.set_index(df['date'])['pageview_desktop_views'].plot(color='green', linestyle='-')\n",
    "df.set_index(df['date'])['pageview_mobile_views'].plot(color='blue', linestyle='-.')\n",
    "df.set_index(df['date'])['pageview_all_views'].plot(color='orange', linestyle='--')\n",
    "\n",
    "# Label axis, add title, add grids, add legends\n",
    "plt.xlabel('Year')\n",
    "plt.ylabel('Page Views (in millions)')\n",
    "plt.grid()\n",
    "plt.title('Wikipedia Traffic from 2008-2021')\n",
    "plt.legend(('Desktop Views', 'Mobile Views', 'All Views'), loc='lower left')\n",
    "\n",
    "\n",
    "# Save plot as .png\n",
    "plt.savefig('wiki_traffic_2008_2021.png')"
   ]
  },
  {
   "cell_type": "code",
   "execution_count": null,
   "metadata": {},
   "outputs": [],
   "source": []
  }
 ],
 "metadata": {
  "kernelspec": {
   "display_name": "Python 3",
   "language": "python",
   "name": "python3"
  },
  "language_info": {
   "codemirror_mode": {
    "name": "ipython",
    "version": 3
   },
   "file_extension": ".py",
   "mimetype": "text/x-python",
   "name": "python",
   "nbconvert_exporter": "python",
   "pygments_lexer": "ipython3",
   "version": "3.8.3"
  }
 },
 "nbformat": 4,
 "nbformat_minor": 4
}
